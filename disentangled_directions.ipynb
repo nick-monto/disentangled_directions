{
  "nbformat": 4,
  "nbformat_minor": 0,
  "metadata": {
    "colab": {
      "name": "disentangled_directions.ipynb",
      "provenance": [],
      "collapsed_sections": [],
      "include_colab_link": true
    },
    "kernelspec": {
      "name": "python3",
      "display_name": "Python 3"
    }
  },
  "cells": [
    {
      "cell_type": "markdown",
      "metadata": {
        "id": "view-in-github",
        "colab_type": "text"
      },
      "source": [
        "<a href=\"https://colab.research.google.com/github/nick-monto/disentangled_directions/blob/master/disentangled_directions.ipynb\" target=\"_parent\"><img src=\"https://colab.research.google.com/assets/colab-badge.svg\" alt=\"Open In Colab\"/></a>"
      ]
    },
    {
      "cell_type": "code",
      "metadata": {
        "id": "ccsSfR3KFC01",
        "colab_type": "code",
        "colab": {}
      },
      "source": [
        "%matplotlib inline"
      ],
      "execution_count": 0,
      "outputs": []
    },
    {
      "cell_type": "code",
      "metadata": {
        "id": "46AVv-HTUx8x",
        "colab_type": "code",
        "outputId": "f09eebea-55fe-4b1e-83ee-9fa00d67b5cd",
        "colab": {
          "base_uri": "https://localhost:8080/",
          "height": 151
        }
      },
      "source": [
        "# for input generation\n",
        "import numpy as np\n",
        "import matplotlib.pyplot as plt\n",
        "from scipy.stats import norm\n",
        "from numpy.random import randint, choice, dirichlet\n",
        "from pandas import get_dummies\n",
        "from PIL import Image, ImageDraw\n",
        "\n",
        "# for input analysis\n",
        "import pandas as pd\n",
        "\n",
        "# for model\n",
        "import tensorflow.compat.v1 as tf\n",
        "tf.disable_v2_behavior()\n",
        "from tensorflow.compat.v1 import set_random_seed\n",
        "from tensorflow.compat.v1.keras.utils import to_categorical\n",
        "from tensorflow.compat.v1.keras.models import Model, Sequential\n",
        "from tensorflow.compat.v1.keras.layers import BatchNormalization, Conv3D, Dense, \\\n",
        "                                              Dropout, Flatten, Input, ReLU, Softmax"
      ],
      "execution_count": 0,
      "outputs": [
        {
          "output_type": "display_data",
          "data": {
            "text/html": [
              "<p style=\"color: red;\">\n",
              "The default version of TensorFlow in Colab will soon switch to TensorFlow 2.x.<br>\n",
              "We recommend you <a href=\"https://www.tensorflow.org/guide/migrate\" target=\"_blank\">upgrade</a> now \n",
              "or ensure your notebook will continue to use TensorFlow 1.x via the <code>%tensorflow_version 1.x</code> magic:\n",
              "<a href=\"https://colab.research.google.com/notebooks/tensorflow_version.ipynb\" target=\"_blank\">more info</a>.</p>\n"
            ],
            "text/plain": [
              "<IPython.core.display.HTML object>"
            ]
          },
          "metadata": {
            "tags": []
          }
        },
        {
          "output_type": "stream",
          "text": [
            "WARNING:tensorflow:From /usr/local/lib/python3.6/dist-packages/tensorflow_core/python/compat/v2_compat.py:68: disable_resource_variables (from tensorflow.python.ops.variable_scope) is deprecated and will be removed in a future version.\n",
            "Instructions for updating:\n",
            "non-resource variables are not supported in the long term\n"
          ],
          "name": "stdout"
        }
      ]
    },
    {
      "cell_type": "code",
      "metadata": {
        "id": "RUSAmRcVgii8",
        "colab_type": "code",
        "colab": {}
      },
      "source": [
        "def findMiddleIndex(input_list):\n",
        "    middle = float(len(input_list))/2\n",
        "    if middle % 2 != 0:\n",
        "        return [int(middle - .5)]\n",
        "    else:\n",
        "        return (int(middle), int(middle-1))"
      ],
      "execution_count": 0,
      "outputs": []
    },
    {
      "cell_type": "code",
      "metadata": {
        "id": "3cGL4wUliXzA",
        "colab_type": "code",
        "colab": {}
      },
      "source": [
        "def centralSort(flat_array):\n",
        "  descSort = -np.sort(-flat_array)[0]\n",
        "  cen_sorted = []\n",
        "  for i in reversed(range(len(descSort))):\n",
        "    while i >= len(descSort) - 2:\n",
        "      cen_sorted.append(descSort[i])\n",
        "      i -= 1\n",
        "    while i == len(descSort) - 3:\n",
        "      cen_sorted.insert(1,descSort[i])\n",
        "      i -= 1\n",
        "    helpme = findMiddleIndex(cen_sorted)\n",
        "    if len(helpme) >= 2:\n",
        "      cen_sorted.insert(helpme[1], descSort[i])\n",
        "    else:\n",
        "      cen_sorted.insert(helpme[0], descSort[i])\n",
        "  uniques = [ii for n,ii in enumerate(cen_sorted) if ii not in cen_sorted[:n]]\n",
        "  return uniques    "
      ],
      "execution_count": 0,
      "outputs": []
    },
    {
      "cell_type": "code",
      "metadata": {
        "id": "qxNdejx8cBXG",
        "colab_type": "code",
        "colab": {}
      },
      "source": [
        "# big ugly function to generate stimuli\n",
        "def central_image(dims, text, movement, show = False, to_matrix = True):\n",
        "  x = randint(30,91)\n",
        "  y = randint(30,91)\n",
        "  base_coords = np.asarray((x, y))\n",
        "  img = Image.new('L', dims)\n",
        "  d = ImageDraw.Draw(img)\n",
        "  d.text((x, y), text, fill=(255))\n",
        "  if movement == 'R':\n",
        "    # generate probability list for weighted movement\n",
        "    prob_list = dirichlet(range(1,21), 1) # first arguement must be >0\n",
        "    # descending sort\n",
        "    probs = centralSort(prob_list)\n",
        "    # random choice from uniform distribution of range 5-24\n",
        "    x += choice(np.arange(5,25), 1, p=probs)\n",
        "    prob_list = dirichlet(range(1,21), 1) # first arguement must be >0\n",
        "    # descending sort\n",
        "    probs = -np.sort(-prob_list)[0]\n",
        "    flip = randint(0,2)\n",
        "    if flip == 0:\n",
        "      y += choice(np.arange(0,20), 1, p=probs)\n",
        "    else:\n",
        "      y -= choice(np.arange(0,20), 1, p=probs)\n",
        "    img1 = Image.new('L', dims)\n",
        "    d = ImageDraw.Draw(img1)\n",
        "    d.text((x,y), text, fill=(255))\n",
        "  elif movement == 'L':\n",
        "    # generate probability list for weighted movement\n",
        "    prob_list = dirichlet(range(1,21), 1)\n",
        "    probs = centralSort(prob_list)\n",
        "    x -= choice(np.arange(5,25), 1, p=probs)\n",
        "    prob_list = dirichlet(range(1,21), 1) # first arguement must be >0\n",
        "    # descending sort\n",
        "    probs = -np.sort(-prob_list)[0]\n",
        "    flip = randint(0,2)\n",
        "    if flip == 0:\n",
        "      y += choice(np.arange(0,20), 1, p=probs)\n",
        "    else:\n",
        "      y -= choice(np.arange(0,20), 1, p=probs)\n",
        "    img1 = Image.new('L', dims)\n",
        "    d = ImageDraw.Draw(img1)\n",
        "    d.text((x,y), text, fill=(255))\n",
        "  elif movement == 'U':\n",
        "    # generate probability list for weighted movement\n",
        "    prob_list = dirichlet(range(1,21), 1)\n",
        "    probs = centralSort(prob_list)\n",
        "    y -= choice(np.arange(5,25), 1, p=probs)\n",
        "    # generate probability list for weighted movement\n",
        "    prob_list = dirichlet(range(1,21), 1)\n",
        "    probs = -np.sort(-prob_list)[0]\n",
        "    flip = randint(0,2)\n",
        "    if flip == 0:\n",
        "      x += choice(np.arange(0,20), 1, p=probs)\n",
        "    else:\n",
        "      x -= choice(np.arange(0,20), 1, p=probs)\n",
        "    img1 = Image.new('L', dims)\n",
        "    d = ImageDraw.Draw(img1)\n",
        "    d.text((x,y), text, fill=(255))\n",
        "  elif movement == 'D':\n",
        "    # generate probability list for weighted movement\n",
        "    prob_list = dirichlet(range(1,21), 1)\n",
        "    probs = centralSort(prob_list)\n",
        "    y += choice(np.arange(5,25), 1, p=probs)\n",
        "    prob_list = dirichlet(range(1,21), 1) # first arguement must be >0\n",
        "    # descending sort\n",
        "    probs = -np.sort(-prob_list)[0]\n",
        "    flip = randint(0,2)\n",
        "    if flip == 0:\n",
        "      x += choice(np.arange(0,20), 1, p=probs)\n",
        "    else:\n",
        "      x -= choice(np.arange(0,20), 1, p=probs)\n",
        "    img1 = Image.new('L', dims)\n",
        "    d = ImageDraw.Draw(img1)\n",
        "    d.text((x,y), text, fill=(255))\n",
        "  else:\n",
        "    print(\"Please use U, D, L, or R to indicate movement direction.\")\n",
        "  if show == True:\n",
        "    fig = plt.figure()\n",
        "    a=fig.add_subplot(1,2,1)\n",
        "    a.set_title('Before')\n",
        "    plt.imshow(np.asarray(img))\n",
        "    a=fig.add_subplot(1,2,2)\n",
        "    a.set_title('After '+ movement + ' shift')\n",
        "    plt.imshow(np.asarray(img1))\n",
        "  if to_matrix == True:\n",
        "    stimulus, label = np.array([np.asarray(img), np.asarray(img1)]), movement\n",
        "    shift_coords = np.asarray((x[0],y[0]))\n",
        "    change = shift_coords - base_coords\n",
        "    return stimulus, label, change"
      ],
      "execution_count": 0,
      "outputs": []
    },
    {
      "cell_type": "code",
      "metadata": {
        "id": "7QmrbSI6lz-D",
        "colab_type": "code",
        "colab": {}
      },
      "source": [
        "# set up the probability space to be \"trivial\"\n",
        "# big ugly function to generate stimuli\n",
        "def trivial_image(dims, text, movement, show = False, to_matrix = True):\n",
        "  x = randint(30,91)\n",
        "  y = randint(30,91)\n",
        "  base_coords = np.asarray((x, y))\n",
        "  img = Image.new('L', dims)\n",
        "  d = ImageDraw.Draw(img)\n",
        "  d.text((x, y), text, fill=(255))\n",
        "  if movement == 'R':\n",
        "    # generate probability list for weighted movement\n",
        "    prob_list = dirichlet(range(1,21), 1) # first arguement must be >0\n",
        "    # ascending sort\n",
        "    probs = np.sort(prob_list)[0]\n",
        "    # random choice from uniform distribution of range 5-24\n",
        "    x += choice(np.arange(5,25), 1, p=probs)\n",
        "    prob_list = dirichlet(range(1,21), 1) # first arguement must be >0\n",
        "    # descending sort\n",
        "    probs = -np.sort(-prob_list)[0]\n",
        "    flip = randint(0,2)\n",
        "    if flip == 0:\n",
        "      y += choice(np.arange(0,20), 1, p=probs)\n",
        "    else:\n",
        "      y -= choice(np.arange(0,20), 1, p=probs)\n",
        "    img1 = Image.new('L', dims)\n",
        "    d = ImageDraw.Draw(img1)\n",
        "    d.text((x,y), text, fill=(255))\n",
        "  elif movement == 'L':\n",
        "    # generate probability list for weighted movement\n",
        "    prob_list = dirichlet(range(1,21), 1)\n",
        "    probs = np.sort(prob_list)[0]\n",
        "    x -= choice(np.arange(5,25), 1, p=probs)\n",
        "    prob_list = dirichlet(range(1,21), 1) # first arguement must be >0\n",
        "    # descending sort\n",
        "    probs = -np.sort(-prob_list)[0]\n",
        "    flip = randint(0,2)\n",
        "    if flip == 0:\n",
        "      y += choice(np.arange(0,20), 1, p=probs)\n",
        "    else:\n",
        "      y -= choice(np.arange(0,20), 1, p=probs)\n",
        "    img1 = Image.new('L', dims)\n",
        "    d = ImageDraw.Draw(img1)\n",
        "    d.text((x,y), text, fill=(255))\n",
        "  elif movement == 'U':\n",
        "    # generate probability list for weighted movement\n",
        "    prob_list = dirichlet(range(1,21), 1)\n",
        "    probs = np.sort(prob_list)[0]\n",
        "    y -= choice(np.arange(5,25), 1, p=probs)\n",
        "    # generate probability list for weighted movement\n",
        "    prob_list = dirichlet(range(1,21), 1)\n",
        "    probs = -np.sort(-prob_list)[0]\n",
        "    flip = randint(0,2)\n",
        "    if flip == 0:\n",
        "      x += choice(np.arange(0,20), 1, p=probs)\n",
        "    else:\n",
        "      x -= choice(np.arange(0,20), 1, p=probs)\n",
        "    img1 = Image.new('L', dims)\n",
        "    d = ImageDraw.Draw(img1)\n",
        "    d.text((x,y), text, fill=(255))\n",
        "  elif movement == 'D':\n",
        "    # generate probability list for weighted movement\n",
        "    prob_list = dirichlet(range(1,21), 1)\n",
        "    probs = np.sort(prob_list)[0]\n",
        "    y += choice(np.arange(5,25), 1, p=probs)\n",
        "    prob_list = dirichlet(range(1,21), 1) # first arguement must be >0\n",
        "    # descending sort\n",
        "    probs = -np.sort(-prob_list)[0]\n",
        "    flip = randint(0,2)\n",
        "    if flip == 0:\n",
        "      x += choice(np.arange(0,20), 1, p=probs)\n",
        "    else:\n",
        "      x -= choice(np.arange(0,20), 1, p=probs)\n",
        "    img1 = Image.new('L', dims)\n",
        "    d = ImageDraw.Draw(img1)\n",
        "    d.text((x,y), text, fill=(255))\n",
        "  else:\n",
        "    print(\"Please use U, D, L, or R to indicate movement direction.\")\n",
        "  if show == True:\n",
        "    fig = plt.figure()\n",
        "    a=fig.add_subplot(1,2,1)\n",
        "    a.set_title('Before')\n",
        "    plt.imshow(np.asarray(img))\n",
        "    a=fig.add_subplot(1,2,2)\n",
        "    a.set_title('After '+ movement + ' shift')\n",
        "    plt.imshow(np.asarray(img1))\n",
        "  if to_matrix == True:\n",
        "    stimulus, label = np.array([np.asarray(img), np.asarray(img1)]), movement\n",
        "    shift_coords = np.asarray((x[0],y[0]))\n",
        "    change = shift_coords - base_coords\n",
        "    return stimulus, label, change"
      ],
      "execution_count": 0,
      "outputs": []
    },
    {
      "cell_type": "code",
      "metadata": {
        "id": "tr1HfpJQ7kiu",
        "colab_type": "code",
        "colab": {}
      },
      "source": [
        "# set up the probability space to overlap completely\n",
        "# big ugly function to generate stimuli\n",
        "def overlap_image(dims, text, movement, show = False, to_matrix = True):\n",
        "  x = randint(30,91)\n",
        "  y = randint(30,91)\n",
        "  base_coords = np.asarray((x, y))\n",
        "  img = Image.new('L', dims)\n",
        "  d = ImageDraw.Draw(img)\n",
        "  d.text((x, y), text, fill=(255))\n",
        "  if movement == 'R':\n",
        "    # generate probability list for weighted movement\n",
        "    prob_list = dirichlet(range(1,21), 1) # first arguement must be >0\n",
        "    # descending sort\n",
        "    probs = -np.sort(-prob_list)[0]\n",
        "    # random choice from uniform distribution of range 5-24\n",
        "    x += choice(np.arange(5,25), 1, p=probs)\n",
        "    prob_list = dirichlet(range(1,21), 1) # first arguement must be >0\n",
        "    # descending sort\n",
        "    probs = -np.sort(-prob_list)[0]\n",
        "    flip = randint(0,2)\n",
        "    if flip == 0:\n",
        "      y += choice(np.arange(0,20), 1, p=probs)\n",
        "    else:\n",
        "      y -= choice(np.arange(0,20), 1, p=probs)\n",
        "    img1 = Image.new('L', dims)\n",
        "    d = ImageDraw.Draw(img1)\n",
        "    d.text((x,y), text, fill=(255))\n",
        "  elif movement == 'L':\n",
        "    # generate probability list for weighted movement\n",
        "    prob_list = dirichlet(range(1,21), 1)\n",
        "    probs = -np.sort(-prob_list)[0]\n",
        "    x -= choice(np.arange(5,25), 1, p=probs)\n",
        "    prob_list = dirichlet(range(1,21), 1) # first arguement must be >0\n",
        "    # descending sort\n",
        "    probs = -np.sort(-prob_list)[0]\n",
        "    flip = randint(0,2)\n",
        "    if flip == 0:\n",
        "      y += choice(np.arange(0,20), 1, p=probs)\n",
        "    else:\n",
        "      y -= choice(np.arange(0,20), 1, p=probs)\n",
        "    img1 = Image.new('L', dims)\n",
        "    d = ImageDraw.Draw(img1)\n",
        "    d.text((x,y), text, fill=(255))\n",
        "  elif movement == 'U':\n",
        "    # generate probability list for weighted movement\n",
        "    prob_list = dirichlet(range(1,21), 1)\n",
        "    probs = -np.sort(-prob_list)[0]\n",
        "    y -= choice(np.arange(5,25), 1, p=probs)\n",
        "    # generate probability list for weighted movement\n",
        "    prob_list = dirichlet(range(1,21), 1)\n",
        "    probs = -np.sort(-prob_list)[0]\n",
        "    flip = randint(0,2)\n",
        "    if flip == 0:\n",
        "      x += choice(np.arange(0,20), 1, p=probs)\n",
        "    else:\n",
        "      x -= choice(np.arange(0,20), 1, p=probs)\n",
        "    img1 = Image.new('L', dims)\n",
        "    d = ImageDraw.Draw(img1)\n",
        "    d.text((x,y), text, fill=(255))\n",
        "  elif movement == 'D':\n",
        "    # generate probability list for weighted movement\n",
        "    prob_list = dirichlet(range(1,21), 1)\n",
        "    probs = -np.sort(-prob_list)[0]\n",
        "    y += choice(np.arange(5,25), 1, p=probs)\n",
        "    prob_list = dirichlet(range(1,21), 1) # first arguement must be >0\n",
        "    # descending sort\n",
        "    probs = -np.sort(-prob_list)[0]\n",
        "    flip = randint(0,2)\n",
        "    if flip == 0:\n",
        "      x += choice(np.arange(0,20), 1, p=probs)\n",
        "    else:\n",
        "      x -= choice(np.arange(0,20), 1, p=probs)\n",
        "    img1 = Image.new('L', dims)\n",
        "    d = ImageDraw.Draw(img1)\n",
        "    d.text((x,y), text, fill=(255))\n",
        "  else:\n",
        "    print(\"Please use U, D, L, or R to indicate movement direction.\")\n",
        "  if show == True:\n",
        "    fig = plt.figure()\n",
        "    a=fig.add_subplot(1,2,1)\n",
        "    a.set_title('Before')\n",
        "    plt.imshow(np.asarray(img))\n",
        "    a=fig.add_subplot(1,2,2)\n",
        "    a.set_title('After '+ movement + ' shift')\n",
        "    plt.imshow(np.asarray(img1))\n",
        "  if to_matrix == True:\n",
        "    stimulus, label = np.array([np.asarray(img), np.asarray(img1)]), movement\n",
        "    shift_coords = np.asarray((x[0],y[0]))\n",
        "    change = shift_coords - base_coords\n",
        "    return stimulus, label, change"
      ],
      "execution_count": 0,
      "outputs": []
    },
    {
      "cell_type": "code",
      "metadata": {
        "id": "COY_lfaegIVl",
        "colab_type": "code",
        "outputId": "6c9c7fda-6e67-4079-a73f-fff19ee32bcd",
        "colab": {
          "base_uri": "https://localhost:8080/",
          "height": 216
        }
      },
      "source": [
        "# in order to show the images, all you have to do is indicate show=True\n",
        "\n",
        "# base function\n",
        "test = central_image((128,128), 'Plz graduate', 'R', show=True)"
      ],
      "execution_count": 0,
      "outputs": [
        {
          "output_type": "display_data",
          "data": {
            "image/png": "[encoded data removed]",
            "text/plain": [
              "<Figure size 432x288 with 2 Axes>"
            ]
          },
          "metadata": {
            "tags": []
          }
        }
      ]
    },
    {
      "cell_type": "code",
      "metadata": {
        "id": "pkZ74K5_piMW",
        "colab_type": "code",
        "outputId": "ef2d6823-5d9e-4ad7-b327-b2db9294febd",
        "colab": {
          "base_uri": "https://localhost:8080/",
          "height": 272
        }
      },
      "source": [
        "test"
      ],
      "execution_count": 0,
      "outputs": [
        {
          "output_type": "execute_result",
          "data": {
            "text/plain": [
              "(array([[[0, 0, 0, ..., 0, 0, 0],\n",
              "         [0, 0, 0, ..., 0, 0, 0],\n",
              "         [0, 0, 0, ..., 0, 0, 0],\n",
              "         ...,\n",
              "         [0, 0, 0, ..., 0, 0, 0],\n",
              "         [0, 0, 0, ..., 0, 0, 0],\n",
              "         [0, 0, 0, ..., 0, 0, 0]],\n",
              " \n",
              "        [[0, 0, 0, ..., 0, 0, 0],\n",
              "         [0, 0, 0, ..., 0, 0, 0],\n",
              "         [0, 0, 0, ..., 0, 0, 0],\n",
              "         ...,\n",
              "         [0, 0, 0, ..., 0, 0, 0],\n",
              "         [0, 0, 0, ..., 0, 0, 0],\n",
              "         [0, 0, 0, ..., 0, 0, 0]]], dtype=uint8), 'R', array([ 15, -10]))"
            ]
          },
          "metadata": {
            "tags": []
          },
          "execution_count": 14
        }
      ]
    },
    {
      "cell_type": "code",
      "metadata": {
        "id": "gEZS-1gpOUFD",
        "colab_type": "code",
        "outputId": "8d514566-8d17-4356-9e66-a02a4b9cc7d5",
        "colab": {
          "base_uri": "https://localhost:8080/",
          "height": 170
        }
      },
      "source": [
        "# can look at shape of input stimulus as so\n",
        "print(test[0].shape)\n",
        "\n",
        "# each layer like so\n",
        "print(test[0][0])\n",
        "test[0][1]\n",
        "\n",
        "# and its associated label like this\n",
        "print(test[1])"
      ],
      "execution_count": 0,
      "outputs": [
        {
          "output_type": "stream",
          "text": [
            "(2, 128, 128)\n",
            "[[0 0 0 ... 0 0 0]\n",
            " [0 0 0 ... 0 0 0]\n",
            " [0 0 0 ... 0 0 0]\n",
            " ...\n",
            " [0 0 0 ... 0 0 0]\n",
            " [0 0 0 ... 0 0 0]\n",
            " [0 0 0 ... 0 0 0]]\n",
            "R\n"
          ],
          "name": "stdout"
        }
      ]
    },
    {
      "cell_type": "code",
      "metadata": {
        "id": "xlz3okg3XTRe",
        "colab_type": "code",
        "outputId": "d9f2cc6d-e09d-421a-ea36-2d610f824e96",
        "colab": {
          "base_uri": "https://localhost:8080/",
          "height": 233
        }
      },
      "source": [
        "# example of another direction\n",
        "test = central_image((128,128), 'Test', 'R', show=True)\n",
        "test[2]"
      ],
      "execution_count": 0,
      "outputs": [
        {
          "output_type": "execute_result",
          "data": {
            "text/plain": [
              "array([23, 14])"
            ]
          },
          "metadata": {
            "tags": []
          },
          "execution_count": 16
        },
        {
          "output_type": "display_data",
          "data": {
            "image/png": "[encoded data removed]",
            "text/plain": [
              "<Figure size 432x288 with 2 Axes>"
            ]
          },
          "metadata": {
            "tags": []
          }
        }
      ]
    },
    {
      "cell_type": "code",
      "metadata": {
        "id": "_xwJYtn_XdUi",
        "colab_type": "code",
        "outputId": "223024ab-8314-471f-f0f0-9228d47301b7",
        "colab": {
          "base_uri": "https://localhost:8080/",
          "height": 216
        }
      },
      "source": [
        "# set to_matrix as False and show to True if you're just playing around\n",
        "central_image((128,128), 'Apples', 'U', show=True, to_matrix=False)"
      ],
      "execution_count": 0,
      "outputs": [
        {
          "output_type": "display_data",
          "data": {
            "image/png": "[encoded data removed]",
            "text/plain": [
              "<Figure size 432x288 with 2 Axes>"
            ]
          },
          "metadata": {
            "tags": []
          }
        }
      ]
    },
    {
      "cell_type": "code",
      "metadata": {
        "id": "JZj36ITY79BM",
        "colab_type": "code",
        "colab": {}
      },
      "source": [
        "# generate 300 stimulus pairs for the central shifts\n",
        "directions = ['U','D','L','R']\n",
        "central_list = []\n",
        "\n",
        "for i in range(300):\n",
        "  central_list.append(central_image((128,128), 'Orange', choice(directions)))\n",
        "  \n",
        "# lets add some more variety to the written cases\n",
        "# add more variation if you want\n",
        "text_values = ['king','queen','list','hedge','dog','cat','truck','horse',\\\n",
        "               'prince', 'cow', 'smile','laugh','frown','boat','car',\\\n",
        "              'vehicle','red','silver','glitch','matrix','keanu','fin']\n",
        "\n",
        "# then generate an addition 300 cases for each item in the text list\n",
        "for x in text_values:\n",
        "  for i in range(300):\n",
        "    central_list.append(central_image((128,128), x, choice(directions)))"
      ],
      "execution_count": 0,
      "outputs": []
    },
    {
      "cell_type": "code",
      "metadata": {
        "id": "M8ILo3Q5PbO_",
        "colab_type": "code",
        "colab": {}
      },
      "source": [
        "# generate 300 stimulus pairs for the trivial shifts\n",
        "directions = ['U','D','L','R']\n",
        "trivial_list = []\n",
        "\n",
        "for i in range(300):\n",
        "  trivial_list.append(trivial_image((128,128), 'Orange', choice(directions)))\n",
        "  \n",
        "# lets add some more variety to the written cases\n",
        "# add more variation if you want\n",
        "text_values = ['king','queen','list','hedge','dog','cat','truck','horse',\\\n",
        "               'prince', 'cow', 'smile','laugh','frown','boat','car',\\\n",
        "              'vehicle','red','silver','glitch','matrix','keanu','fin']\n",
        "\n",
        "# then generate an addition 300 cases for each item in the text list\n",
        "for x in text_values:\n",
        "  for i in range(300):\n",
        "    trivial_list.append(trivial_image((128,128), x, choice(directions)))"
      ],
      "execution_count": 0,
      "outputs": []
    },
    {
      "cell_type": "code",
      "metadata": {
        "id": "XFxU6U_RUDnf",
        "colab_type": "code",
        "colab": {}
      },
      "source": [
        "# generate 300 stimulus pairs for the overlap pairs\n",
        "overlap_list = []\n",
        "\n",
        "for i in range(300):\n",
        "  overlap_list.append(overlap_image((128,128), 'Orange', choice(directions)))\n",
        "  \n",
        "# lets add some more variety to the written cases\n",
        "# add more variation if you want\n",
        "text_values = ['king','queen','list','hedge','dog','cat','truck','horse',\\\n",
        "               'prince', 'cow', 'smile','laugh','frown','boat','car',\\\n",
        "              'vehicle','red','silver','glitch','matrix','keanu','fin']\n",
        "\n",
        "# then generate an addition 300 cases for each item in the text list\n",
        "for x in text_values:\n",
        "  for i in range(300):\n",
        "    overlap_list.append(overlap_image((128,128), x, choice(directions)))"
      ],
      "execution_count": 0,
      "outputs": []
    },
    {
      "cell_type": "code",
      "metadata": {
        "id": "ojBwG-zpa6Db",
        "colab_type": "code",
        "colab": {}
      },
      "source": [
        "def plot_dataHist(stimuli_array, plot_title, plot=True): \n",
        "  df = []\n",
        "  for i in range(len(stimuli_array)):\n",
        "    df.append((stimuli_array[i][2], stimuli_array[i][1]))\n",
        "  df = pd.DataFrame(df, columns=[\"XY_change\", \"Label\"])\n",
        "  df['Difference'] = 0\n",
        "  for i in range(len(df)):\n",
        "    difference = abs(df[\"XY_change\"][i][1]) - abs(df[\"XY_change\"][i][0])\n",
        "    df.at[i,'Difference'] = difference\n",
        "  if plot:\n",
        "    plt.style.use('seaborn-deep')\n",
        "\n",
        "    R = df[df['Label'] == \"R\"]\n",
        "    L = df[df['Label'] == \"L\"]\n",
        "    U = df[df['Label'] == \"U\"]\n",
        "    D = df[df['Label'] == \"D\"]\n",
        "    bins = np.linspace(-25, 25, 30)\n",
        "\n",
        "    plt.hist([R['Difference'], L['Difference'], U['Difference'], D['Difference']], bins, label=['R','L','U','D'])\n",
        "    plt.title(plot_title)\n",
        "    plt.legend(loc='upper right')\n",
        "    plt.show()\n",
        "  return df"
      ],
      "execution_count": 0,
      "outputs": []
    },
    {
      "cell_type": "code",
      "metadata": {
        "id": "LAzeoEMIojXN",
        "colab_type": "code",
        "outputId": "fc42590d-beab-4f37-cf1d-2cb878dfab11",
        "colab": {
          "base_uri": "https://localhost:8080/",
          "height": 281
        }
      },
      "source": [
        "trivial_hist = plot_dataHist(trivial_list, \"Trivial\")"
      ],
      "execution_count": 0,
      "outputs": [
        {
          "output_type": "display_data",
          "data": {
            "image/png": "[encoded data removed]",
            "text/plain": [
              "<Figure size 432x288 with 1 Axes>"
            ]
          },
          "metadata": {
            "tags": []
          }
        }
      ]
    },
    {
      "cell_type": "code",
      "metadata": {
        "id": "3Ny8EZmw8T8_",
        "colab_type": "code",
        "outputId": "7d46ad11-b413-4b77-e801-3336f225557f",
        "colab": {
          "base_uri": "https://localhost:8080/",
          "height": 281
        }
      },
      "source": [
        "central_hist = plot_dataHist(central_list, \"Central\")"
      ],
      "execution_count": 0,
      "outputs": [
        {
          "output_type": "display_data",
          "data": {
            "image/png": "[encoded data removed]",
            "text/plain": [
              "<Figure size 432x288 with 1 Axes>"
            ]
          },
          "metadata": {
            "tags": []
          }
        }
      ]
    },
    {
      "cell_type": "code",
      "metadata": {
        "id": "kgj2MAqKrqRd",
        "colab_type": "code",
        "outputId": "c4f37eb5-5b36-408a-ff07-21b44cdb94dc",
        "colab": {
          "base_uri": "https://localhost:8080/",
          "height": 281
        }
      },
      "source": [
        "overlap_hist = plot_dataHist(overlap_list, \"Overlap\")"
      ],
      "execution_count": 0,
      "outputs": [
        {
          "output_type": "display_data",
          "data": {
            "image/png": "[encoded data removed]",
            "text/plain": [
              "<Figure size 432x288 with 1 Axes>"
            ]
          },
          "metadata": {
            "tags": []
          }
        }
      ]
    },
    {
      "cell_type": "code",
      "metadata": {
        "id": "wNOBbAC0HZxf",
        "colab_type": "code",
        "colab": {}
      },
      "source": [
        "def stim_massage(stimulus_list):\n",
        "  data = []\n",
        "  labels = []\n",
        "  data, labels, change = zip(*stimulus_list)\n",
        "\n",
        "  # reshape image input to include an additional channel \n",
        "  # the -1 is a placeholder that will take the left over number \n",
        "  # number of images in this case\n",
        "  data = np.reshape(np.asarray(data), (-1,2,128,128,1))\n",
        "  print(\"The shape of the data is: {}.\".format(data.shape))\n",
        "  # one hot encode variables\n",
        "  # because we are using categorical crossentropy for loss\n",
        "  labels = get_dummies(labels).values\n",
        "  print(\"The shape of the labels is: {}.\".format(labels.shape))\n",
        "  return data, labels"
      ],
      "execution_count": 0,
      "outputs": []
    },
    {
      "cell_type": "code",
      "metadata": {
        "id": "49NwX0-Dy3FT",
        "colab_type": "code",
        "outputId": "3096898b-0b1e-48f6-9389-75a72c931773",
        "colab": {
          "base_uri": "https://localhost:8080/",
          "height": 51
        }
      },
      "source": [
        "dat, lab = stim_massage(central_list)"
      ],
      "execution_count": 0,
      "outputs": [
        {
          "output_type": "stream",
          "text": [
            "The shape of the data is: (6900, 2, 128, 128, 1).\n",
            "The shape of the labels is: (6900, 4).\n"
          ],
          "name": "stdout"
        }
      ]
    },
    {
      "cell_type": "code",
      "metadata": {
        "id": "FzRafX1DpMJd",
        "colab_type": "code",
        "colab": {}
      },
      "source": [
        "# Old method of building models with Keras\n",
        "\n",
        "# keras.io has documentation for all the available layers etc...\n",
        "\n",
        "model.add(Input(batch_shape=(None,2,128,128,1), name=\"Input\"))\n",
        "model.add(Conv3D(8, (1,3,3), (1,2,2), padding='same',\n",
        "                 activation='relu', name=\"Conv1\"))\n",
        "model.add(BatchNormalization(axis=-1))\n",
        "\n",
        "model.add(Conv3D(16, (1,3,3), (1,2,2), padding='same',\n",
        "                 activation='relu', name=\"Conv2\"))\n",
        "model.add(BatchNormalization(axis=-1))\n",
        "\n",
        "model.add(Conv3D(32, (1,3,3), (1,2,2), padding='same',\n",
        "                 activation='relu', name=\"Conv3\"))\n",
        "model.add(BatchNormalization(axis=-1))\n",
        "\n",
        "model.add(Flatten())\n",
        "model.add(Dense(256, activation='relu', name='fc1'))\n",
        "model.add(Dropout(0.50, name='do1'))\n",
        "model.add(Dense(128, activation='relu', name='fc2'))\n",
        "model.add(Dense(len(lab[0]), activation='softmax', name=\"output\"))\n",
        "\n",
        "# compile the network with categorical cross entropy loss function\n",
        "model.compile(loss='categorical_crossentropy', optimizer='adam', metrics=['accuracy'])"
      ],
      "execution_count": 0,
      "outputs": []
    },
    {
      "cell_type": "code",
      "metadata": {
        "id": "zxN_qTznjns_",
        "colab_type": "code",
        "colab": {}
      },
      "source": [
        "# New method of building models with Keras\n",
        "model = Sequential([\n",
        "    Input(batch_shape=(None,2,128,128,1), name=\"Input\"),\n",
        "\n",
        "    Conv3D(8, (1,3,3), (1,2,2), padding='same', activation='relu', name=\"Conv1\"),\n",
        "    BatchNormalization(axis=-1),\n",
        "\n",
        "    Conv3D(16, (1,3,3), (1,2,2), padding='same', activation='relu', name=\"Conv2\"),\n",
        "    BatchNormalization(axis=-1),\n",
        "\n",
        "    Conv3D(32, (1,3,3), (1,2,2), padding='same', activation='relu', name=\"Conv3\"),\n",
        "    BatchNormalization(axis=-1),\n",
        "\n",
        "    Flatten(),\n",
        "    Dense(256, activation='relu', name='fc1'),\n",
        "    Dropout(0.50, name='do1'),\n",
        "    Dense(128, activation='relu', name='fc2'),\n",
        "    Dense(len(lab[0]), activation='softmax', name=\"output\")\n",
        "])\n",
        "\n",
        "model.compile(loss='categorical_crossentropy', optimizer='adam', metrics=['accuracy'])"
      ],
      "execution_count": 0,
      "outputs": []
    },
    {
      "cell_type": "code",
      "metadata": {
        "id": "CA-CtS1dk8uW",
        "colab_type": "code",
        "outputId": "df64423b-2873-4b78-aaaf-ce80b9857855",
        "colab": {
          "base_uri": "https://localhost:8080/",
          "height": 527
        }
      },
      "source": [
        "model.summary()"
      ],
      "execution_count": 0,
      "outputs": [
        {
          "output_type": "stream",
          "text": [
            "Model: \"sequential_1\"\n",
            "_________________________________________________________________\n",
            "Layer (type)                 Output Shape              Param #   \n",
            "=================================================================\n",
            "Conv1 (Conv3D)               (None, 2, 64, 64, 8)      80        \n",
            "_________________________________________________________________\n",
            "batch_normalization_3 (Batch (None, 2, 64, 64, 8)      32        \n",
            "_________________________________________________________________\n",
            "Conv2 (Conv3D)               (None, 2, 32, 32, 16)     1168      \n",
            "_________________________________________________________________\n",
            "batch_normalization_4 (Batch (None, 2, 32, 32, 16)     64        \n",
            "_________________________________________________________________\n",
            "Conv3 (Conv3D)               (None, 2, 16, 16, 32)     4640      \n",
            "_________________________________________________________________\n",
            "batch_normalization_5 (Batch (None, 2, 16, 16, 32)     128       \n",
            "_________________________________________________________________\n",
            "flatten_1 (Flatten)          (None, 16384)             0         \n",
            "_________________________________________________________________\n",
            "fc1 (Dense)                  (None, 256)               4194560   \n",
            "_________________________________________________________________\n",
            "do1 (Dropout)                (None, 256)               0         \n",
            "_________________________________________________________________\n",
            "fc2 (Dense)                  (None, 128)               32896     \n",
            "_________________________________________________________________\n",
            "output (Dense)               (None, 4)                 516       \n",
            "=================================================================\n",
            "Total params: 4,234,084\n",
            "Trainable params: 4,233,972\n",
            "Non-trainable params: 112\n",
            "_________________________________________________________________\n"
          ],
          "name": "stdout"
        }
      ]
    },
    {
      "cell_type": "code",
      "metadata": {
        "id": "zUpGeZPTxVTp",
        "colab_type": "code",
        "outputId": "7e6eb6d5-4221-470d-af2b-3e0f158a320b",
        "colab": {
          "base_uri": "https://localhost:8080/",
          "height": 241
        }
      },
      "source": [
        "# train the model on an 80/20 split for a user decided number of epochs\n",
        "# defaults to a 32 batch size\n",
        "model.fit(dat.astype('float16'), lab,\n",
        "          batch_size=32,\n",
        "          validation_split=0.2, epochs=5,\n",
        "          verbose=1)"
      ],
      "execution_count": 0,
      "outputs": [
        {
          "output_type": "stream",
          "text": [
            "Train on 5520 samples, validate on 1380 samples\n",
            "Epoch 1/5\n",
            "5520/5520 [==============================] - 49s 9ms/sample - loss: 1.0598 - acc: 0.6270 - val_loss: 0.5097 - val_acc: 0.8283\n",
            "Epoch 2/5\n",
            "5520/5520 [==============================] - 48s 9ms/sample - loss: 0.5236 - acc: 0.8178 - val_loss: 0.4587 - val_acc: 0.8399\n",
            "Epoch 3/5\n",
            "5520/5520 [==============================] - 48s 9ms/sample - loss: 0.3428 - acc: 0.8793 - val_loss: 0.4387 - val_acc: 0.8580\n",
            "Epoch 4/5\n",
            "5520/5520 [==============================] - 50s 9ms/sample - loss: 0.2234 - acc: 0.9201 - val_loss: 0.5242 - val_acc: 0.8507\n",
            "Epoch 5/5\n",
            "5520/5520 [==============================] - 48s 9ms/sample - loss: 0.1712 - acc: 0.9424 - val_loss: 0.4894 - val_acc: 0.8601\n"
          ],
          "name": "stdout"
        },
        {
          "output_type": "execute_result",
          "data": {
            "text/plain": [
              "<tensorflow.python.keras.callbacks.History at 0x7fd23ccdce80>"
            ]
          },
          "metadata": {
            "tags": []
          },
          "execution_count": 31
        }
      ]
    },
    {
      "cell_type": "code",
      "metadata": {
        "colab_type": "code",
        "outputId": "711d6d2b-4cf4-42c4-adfa-c14a85e08375",
        "id": "hVK9qP99ldLz",
        "colab": {
          "base_uri": "https://localhost:8080/",
          "height": 102
        }
      },
      "source": [
        "# test the model with the overlapped case\n",
        "test_data, test_lab = stim_massage(overlap_list)\n",
        "test_loss, test_acc = model.evaluate(test_data,  test_lab, verbose=1)\n",
        "\n",
        "print('\\nTest accuracy:', test_acc)"
      ],
      "execution_count": 0,
      "outputs": [
        {
          "output_type": "stream",
          "text": [
            "The shape of the data is: (6900, 2, 128, 128, 1).\n",
            "The shape of the labels is: (6900, 4).\n",
            "6900/6900 [==============================] - 22s 3ms/sample - loss: 1.1087 - acc: 0.7196\n",
            "\n",
            "Test accuracy: 0.7195652\n"
          ],
          "name": "stdout"
        }
      ]
    },
    {
      "cell_type": "code",
      "metadata": {
        "id": "0hw_SRc9lsGH",
        "colab_type": "code",
        "outputId": "a5e2a958-8d97-4d7b-c580-92667f39e890",
        "colab": {
          "base_uri": "https://localhost:8080/",
          "height": 250
        }
      },
      "source": [
        "# set up a test case\n",
        "test_image = trivial_image((128,128), 'd(^-^)b','L',show=True)\n",
        "print(\"The pixel movement of the test case is {} to the {}.\".format(test_image[2], \n",
        "                                                                    test_image[1]))\n",
        "test = np.reshape(test_image[0], (-1,2,128,128,1))\n",
        "\n",
        "# outputs probability of class in the order below\n",
        "# down, left, right, up\n",
        "model.predict(test)"
      ],
      "execution_count": 0,
      "outputs": [
        {
          "output_type": "stream",
          "text": [
            "The pixel movement of the test case is [-11   0] to the L.\n"
          ],
          "name": "stdout"
        },
        {
          "output_type": "execute_result",
          "data": {
            "text/plain": [
              "array([[0.21077012, 0.00340331, 0.7383659 , 0.04746066]], dtype=float32)"
            ]
          },
          "metadata": {
            "tags": []
          },
          "execution_count": 33
        },
        {
          "output_type": "display_data",
          "data": {
            "image/png": "[encoded data removed]",
            "text/plain": [
              "<Figure size 432x288 with 2 Axes>"
            ]
          },
          "metadata": {
            "tags": []
          }
        }
      ]
    },
    {
      "cell_type": "code",
      "metadata": {
        "id": "GVcRVR5fIoDR",
        "colab_type": "code",
        "outputId": "3e352e73-53d9-471e-b3d3-1518c25c001c",
        "colab": {
          "base_uri": "https://localhost:8080/",
          "height": 221
        }
      },
      "source": [
        "model_vis = Model(inputs=model.inputs, outputs=model.layers[0].output)\n",
        "model_vis.summary()\n",
        "feature_maps = model_vis.predict(test)"
      ],
      "execution_count": 0,
      "outputs": [
        {
          "output_type": "stream",
          "text": [
            "Model: \"model\"\n",
            "_________________________________________________________________\n",
            "Layer (type)                 Output Shape              Param #   \n",
            "=================================================================\n",
            "Input (InputLayer)           [(None, 2, 128, 128, 1)]  0         \n",
            "_________________________________________________________________\n",
            "Conv1 (Conv3D)               (None, 2, 64, 64, 8)      80        \n",
            "=================================================================\n",
            "Total params: 80\n",
            "Trainable params: 80\n",
            "Non-trainable params: 0\n",
            "_________________________________________________________________\n"
          ],
          "name": "stdout"
        }
      ]
    },
    {
      "cell_type": "code",
      "metadata": {
        "id": "aGAwZuDrvdTQ",
        "colab_type": "code",
        "colab": {}
      },
      "source": [
        "plt.rcParams['figure.figsize'] = 20, 10"
      ],
      "execution_count": 0,
      "outputs": []
    },
    {
      "cell_type": "code",
      "metadata": {
        "id": "ftxlZGGgJu0p",
        "colab_type": "code",
        "outputId": "31585207-e6f3-472e-e8a8-6b50757bf052",
        "colab": {
          "base_uri": "https://localhost:8080/",
          "height": 173
        }
      },
      "source": [
        "# TODO make bigger plots\n",
        "# plot all 8 maps in an 8x8 squares\n",
        "square = 8\n",
        "ix = 1\n",
        "for _ in range(square):\n",
        "  # specify subplot and turn of axis\n",
        "  ax = plt.subplot(1, square, ix)\n",
        "  ax.set_xticks([])\n",
        "  ax.set_yticks([])\n",
        "  # plot filter channel in grayscale\n",
        "  plt.imshow(feature_maps[0, 0, :, :, ix-1], cmap='gray', aspect=\"equal\")\n",
        "  ix += 1\n",
        "# show the figure\n",
        "plt.show()"
      ],
      "execution_count": 0,
      "outputs": [
        {
          "output_type": "display_data",
          "data": {
            "image/png": "[encoded data removed]",
            "text/plain": [
              "<Figure size 1440x720 with 8 Axes>"
            ]
          },
          "metadata": {
            "tags": []
          }
        }
      ]
    }
  ]
}